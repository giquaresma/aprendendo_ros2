{
 "cells": [
  {
   "cell_type": "code",
   "execution_count": 30,
   "metadata": {},
   "outputs": [],
   "source": [
    "import cv2\n",
    "import numpy as np\n",
    "from matplotlib import pyplot as plt\n",
    "import math\n",
    "from math import *\n",
    "from matplotlib.colors import Normalize"
   ]
  },
  {
   "cell_type": "code",
   "execution_count": 31,
   "metadata": {},
   "outputs": [
    {
     "data": {
      "image/png": "[encoded data removed]",
      "text/plain": [
       "<Figure size 640x480 with 1 Axes>"
      ]
     },
     "metadata": {},
     "output_type": "display_data"
    }
   ],
   "source": [
    "pgmf = open('my_map.pgm', 'rb')\n",
    "image = plt.imread(pgmf)\n",
    "\n",
    "image_copia = 1.0 * (image > 250)\n",
    "\n",
    "goal = (80, 325) \n",
    "robo = (300, 25) \n",
    "\n",
    "image_copia[goal[0]][goal[1]] = 0 \n",
    "image_copia[robo[0]][robo[1]] = 0   \n",
    "\n",
    "fig = plt.figure()\n",
    "fig.canvas.manager.set_window_title('Figura 1')\n",
    "\n",
    "plt.imshow(image_copia, interpolation='nearest', cmap='gray')\n",
    "plt.title('Imagem inicial')\n",
    "plt.show()"
   ]
  },
  {
   "cell_type": "code",
   "execution_count": 32,
   "metadata": {},
   "outputs": [],
   "source": [
    "obstaculos = np.argwhere(image_copia == 0) #saber onde tem obstacúlos\n",
    "coordenadas = list()\n",
    "ft = 0\n",
    "ka = 1\n",
    "kr = 1000\n",
    "p0 = 15\n",
    "\n",
    "def forca_att(pos, goal):\n",
    "    atrativa = (ka * ((math.dist(pos-goal))**2))/2\n",
    "    return atrativa\n",
    "\n",
    "def forca_rep(pos, obstaculos):\n",
    "    p_q = math.dist(pos, obstaculos)\n",
    "    if p_q > p0:\n",
    "        return 0\n",
    "    else:\n",
    "        repulsiva = (kr*(((1/p_q)-(1/p0))**2))/2\n",
    "    return repulsiva"
   ]
  },
  {
   "cell_type": "code",
   "execution_count": 33,
   "metadata": {},
   "outputs": [
    {
     "name": "stdout",
     "output_type": "stream",
     "text": [
      "[[  0 314]\n",
      " [  0 315]\n",
      " [  0 316]\n",
      " ...\n",
      " [398 395]\n",
      " [398 396]\n",
      " [398 397]]\n"
     ]
    }
   ],
   "source": [
    "print(obstaculos)"
   ]
  },
  {
   "cell_type": "code",
   "execution_count": 34,
   "metadata": {},
   "outputs": [
    {
     "name": "stdout",
     "output_type": "stream",
     "text": [
      "entrou nos dois for\n",
      "entrou no try\n",
      "entrou nos dois for\n",
      "entrou no try\n",
      "entrou nos dois for\n",
      "entrou no try\n",
      "entrou nos dois for\n",
      "entrou no try\n",
      "entrou nos dois for\n",
      "entrou no try\n",
      "entrou no if\n",
      "entrou nos dois for\n",
      "entrou no try\n",
      "entrou nos dois for\n",
      "entrou no try\n",
      "entrou nos dois for\n",
      "entrou no try\n",
      "entrou nos dois for\n",
      "entrou no try\n"
     ]
    },
    {
     "ename": "IndexError",
     "evalue": "pop from empty list",
     "output_type": "error",
     "traceback": [
      "\u001b[0;31m---------------------------------------------------------------------------\u001b[0m",
      "\u001b[0;31mIndexError\u001b[0m                                Traceback (most recent call last)",
      "Cell \u001b[0;32mIn[34], line 35\u001b[0m\n\u001b[1;32m     32\u001b[0m \u001b[38;5;28;01mif\u001b[39;00m(parar \u001b[38;5;241m==\u001b[39m \u001b[38;5;28;01mTrue\u001b[39;00m):\n\u001b[1;32m     33\u001b[0m        \u001b[38;5;28;01mbreak\u001b[39;00m   \n\u001b[0;32m---> 35\u001b[0m ponto \u001b[38;5;241m=\u001b[39m \u001b[43mcoordenadas\u001b[49m\u001b[38;5;241;43m.\u001b[39;49m\u001b[43mpop\u001b[49m\u001b[43m(\u001b[49m\u001b[38;5;241;43m0\u001b[39;49m\u001b[43m)\u001b[49m\n",
      "\u001b[0;31mIndexError\u001b[0m: pop from empty list"
     ]
    }
   ],
   "source": [
    "ponto = goal\n",
    "parar = False\n",
    "caminho = list()\n",
    "vezes = 0\n",
    "\n",
    "while(vezes <1000):\n",
    "    vezes += 1\n",
    "    for l in range (-1,2):\n",
    "        for c in range (-1,2):\n",
    "            print(\"entrou nos dois for\")\n",
    "            try:\n",
    "                print(\"entrou no try\")\n",
    "                if(image_copia[ponto[0]+l][ponto[1]+c] == 1):\n",
    "                    print(\"entrou no if\")\n",
    "                    fa = forca_att(([ponto[0]+l][ponto[1]+c]), goal)\n",
    "                    fr= forca_rep(([ponto[0]+l][ponto[1]+c]), obstaculos)\n",
    "                    ft = fa + fr\n",
    "\n",
    "                    print(fa, fr, ft)\n",
    "\n",
    "                    image_copia[ponto[0]+ l][ponto[1]+c]= ft\n",
    "                    caminho.append(ft)\n",
    "                    coordenadas.append([ponto[0]+ l, ponto[1]+c])\n",
    "\n",
    "                if(ponto[0]+l == robo[0] and ponto[1]+c == robo[1]):\n",
    "                    parar = True\n",
    "                    break\n",
    "            except: \n",
    "                continue\n",
    "        if(parar == True):\n",
    "            break   \n",
    "    if(parar == True):\n",
    "           break   \n",
    "    \n",
    "    ponto = coordenadas.pop(0)\n",
    "    "
   ]
  },
  {
   "cell_type": "code",
   "execution_count": null,
   "metadata": {},
   "outputs": [],
   "source": [
    "mapa_forca = np.zeros(image_copia.shape)\n",
    "\n",
    "for l in range(mapa_forca.shape[0]):\n",
    "    \n",
    "    for c in range(mapa_forca.shape[1]):\n",
    "        posicao_atual = (l,c)\n",
    "        print(posicao_atual)\n",
    "        fa = forca_att(([l][c]), goal)\n",
    "        fr = forca_rep(([l][c]), obstaculos)\n",
    "        ft = fa + fr\n",
    "        print(fa, fr, ft, posicao_atual)\n",
    "\n",
    "        mapa_forca[l][c]= ft\n",
    "        coordenadas.append([l][c])"
   ]
  },
  {
   "cell_type": "code",
   "execution_count": 5,
   "metadata": {},
   "outputs": [
    {
     "name": "stdout",
     "output_type": "stream",
     "text": [
      "[[  0 314]\n",
      " [  0 315]\n",
      " [  0 316]\n",
      " ...\n",
      " [398 395]\n",
      " [398 396]\n",
      " [398 397]]\n",
      "0\n"
     ]
    }
   ],
   "source": [
    "print(obstaculos)\n",
    "print(ft)"
   ]
  },
  {
   "cell_type": "code",
   "execution_count": 6,
   "metadata": {},
   "outputs": [
    {
     "data": {
      "image/png": "[encoded data removed]",
      "text/plain": [
       "<Figure size 640x480 with 2 Axes>"
      ]
     },
     "metadata": {},
     "output_type": "display_data"
    }
   ],
   "source": [
    "fig = plt.figure()\n",
    "fig.canvas.manager.set_window_title('Figura 2')\n",
    "\n",
    "cmap= plt.get_cmap('viridis')\n",
    "\n",
    "plt.imshow(mapa_forca, interpolation='nearest', cmap='viridis')  # Usando viridis para ver os valores\n",
    "plt.colorbar()\n",
    "plt.title('Imagem colorida de proximidade')\n",
    "plt.show()"
   ]
  }
 ],
 "metadata": {
  "kernelspec": {
   "display_name": "Python 3",
   "language": "python",
   "name": "python3"
  },
  "language_info": {
   "codemirror_mode": {
    "name": "ipython",
    "version": 3
   },
   "file_extension": ".py",
   "mimetype": "text/x-python",
   "name": "python",
   "nbconvert_exporter": "python",
   "pygments_lexer": "ipython3",
   "version": "3.10.12"
  }
 },
 "nbformat": 4,
 "nbformat_minor": 2
}
